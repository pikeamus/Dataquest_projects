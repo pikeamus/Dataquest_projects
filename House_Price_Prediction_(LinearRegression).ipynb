{
 "cells": [
  {
   "cell_type": "markdown",
   "metadata": {},
   "source": [
    "# Predicting House Sale Prices\n",
    "\n",
    "We're going to look at predicting house sale prices from a selection of other features (to be determined), using linear regression (chosen due to continuous numeric nature of target variable).\n",
    "\n",
    "Current status: Best root mean squared error (averaged over 10 folds) achieved so far: 23,690 (vs a target column mean of ~180k). Model not yet tested against the held back test dataset.\n",
    "\n",
    "## Reading the data\n",
    "\n",
    "Tab delimited file available from https://ww2.amstat.org/publications/jse/v19n3/decock/AmesHousing.txt with data dictionary https://ww2.amstat.org/publications/jse/v19n3/decock/DataDocumentation.txt."
   ]
  },
  {
   "cell_type": "code",
   "execution_count": 1,
   "metadata": {},
   "outputs": [
    {
     "data": {
      "text/html": [
       "<div>\n",
       "<style>\n",
       "    .dataframe thead tr:only-child th {\n",
       "        text-align: right;\n",
       "    }\n",
       "\n",
       "    .dataframe thead th {\n",
       "        text-align: left;\n",
       "    }\n",
       "\n",
       "    .dataframe tbody tr th {\n",
       "        vertical-align: top;\n",
       "    }\n",
       "</style>\n",
       "<table border=\"1\" class=\"dataframe\">\n",
       "  <thead>\n",
       "    <tr style=\"text-align: right;\">\n",
       "      <th></th>\n",
       "      <th>Order</th>\n",
       "      <th>PID</th>\n",
       "      <th>MS SubClass</th>\n",
       "      <th>MS Zoning</th>\n",
       "      <th>Lot Frontage</th>\n",
       "      <th>Lot Area</th>\n",
       "      <th>Street</th>\n",
       "      <th>Alley</th>\n",
       "      <th>Lot Shape</th>\n",
       "      <th>Land Contour</th>\n",
       "      <th>...</th>\n",
       "      <th>Pool Area</th>\n",
       "      <th>Pool QC</th>\n",
       "      <th>Fence</th>\n",
       "      <th>Misc Feature</th>\n",
       "      <th>Misc Val</th>\n",
       "      <th>Mo Sold</th>\n",
       "      <th>Yr Sold</th>\n",
       "      <th>Sale Type</th>\n",
       "      <th>Sale Condition</th>\n",
       "      <th>SalePrice</th>\n",
       "    </tr>\n",
       "  </thead>\n",
       "  <tbody>\n",
       "    <tr>\n",
       "      <th>0</th>\n",
       "      <td>1</td>\n",
       "      <td>526301100</td>\n",
       "      <td>20</td>\n",
       "      <td>RL</td>\n",
       "      <td>141.0</td>\n",
       "      <td>31770</td>\n",
       "      <td>Pave</td>\n",
       "      <td>NaN</td>\n",
       "      <td>IR1</td>\n",
       "      <td>Lvl</td>\n",
       "      <td>...</td>\n",
       "      <td>0</td>\n",
       "      <td>NaN</td>\n",
       "      <td>NaN</td>\n",
       "      <td>NaN</td>\n",
       "      <td>0</td>\n",
       "      <td>5</td>\n",
       "      <td>2010</td>\n",
       "      <td>WD</td>\n",
       "      <td>Normal</td>\n",
       "      <td>215000</td>\n",
       "    </tr>\n",
       "    <tr>\n",
       "      <th>1</th>\n",
       "      <td>2</td>\n",
       "      <td>526350040</td>\n",
       "      <td>20</td>\n",
       "      <td>RH</td>\n",
       "      <td>80.0</td>\n",
       "      <td>11622</td>\n",
       "      <td>Pave</td>\n",
       "      <td>NaN</td>\n",
       "      <td>Reg</td>\n",
       "      <td>Lvl</td>\n",
       "      <td>...</td>\n",
       "      <td>0</td>\n",
       "      <td>NaN</td>\n",
       "      <td>MnPrv</td>\n",
       "      <td>NaN</td>\n",
       "      <td>0</td>\n",
       "      <td>6</td>\n",
       "      <td>2010</td>\n",
       "      <td>WD</td>\n",
       "      <td>Normal</td>\n",
       "      <td>105000</td>\n",
       "    </tr>\n",
       "    <tr>\n",
       "      <th>2</th>\n",
       "      <td>3</td>\n",
       "      <td>526351010</td>\n",
       "      <td>20</td>\n",
       "      <td>RL</td>\n",
       "      <td>81.0</td>\n",
       "      <td>14267</td>\n",
       "      <td>Pave</td>\n",
       "      <td>NaN</td>\n",
       "      <td>IR1</td>\n",
       "      <td>Lvl</td>\n",
       "      <td>...</td>\n",
       "      <td>0</td>\n",
       "      <td>NaN</td>\n",
       "      <td>NaN</td>\n",
       "      <td>Gar2</td>\n",
       "      <td>12500</td>\n",
       "      <td>6</td>\n",
       "      <td>2010</td>\n",
       "      <td>WD</td>\n",
       "      <td>Normal</td>\n",
       "      <td>172000</td>\n",
       "    </tr>\n",
       "    <tr>\n",
       "      <th>3</th>\n",
       "      <td>4</td>\n",
       "      <td>526353030</td>\n",
       "      <td>20</td>\n",
       "      <td>RL</td>\n",
       "      <td>93.0</td>\n",
       "      <td>11160</td>\n",
       "      <td>Pave</td>\n",
       "      <td>NaN</td>\n",
       "      <td>Reg</td>\n",
       "      <td>Lvl</td>\n",
       "      <td>...</td>\n",
       "      <td>0</td>\n",
       "      <td>NaN</td>\n",
       "      <td>NaN</td>\n",
       "      <td>NaN</td>\n",
       "      <td>0</td>\n",
       "      <td>4</td>\n",
       "      <td>2010</td>\n",
       "      <td>WD</td>\n",
       "      <td>Normal</td>\n",
       "      <td>244000</td>\n",
       "    </tr>\n",
       "    <tr>\n",
       "      <th>4</th>\n",
       "      <td>5</td>\n",
       "      <td>527105010</td>\n",
       "      <td>60</td>\n",
       "      <td>RL</td>\n",
       "      <td>74.0</td>\n",
       "      <td>13830</td>\n",
       "      <td>Pave</td>\n",
       "      <td>NaN</td>\n",
       "      <td>IR1</td>\n",
       "      <td>Lvl</td>\n",
       "      <td>...</td>\n",
       "      <td>0</td>\n",
       "      <td>NaN</td>\n",
       "      <td>MnPrv</td>\n",
       "      <td>NaN</td>\n",
       "      <td>0</td>\n",
       "      <td>3</td>\n",
       "      <td>2010</td>\n",
       "      <td>WD</td>\n",
       "      <td>Normal</td>\n",
       "      <td>189900</td>\n",
       "    </tr>\n",
       "  </tbody>\n",
       "</table>\n",
       "<p>5 rows × 82 columns</p>\n",
       "</div>"
      ],
      "text/plain": [
       "   Order        PID  MS SubClass MS Zoning  Lot Frontage  Lot Area Street  \\\n",
       "0      1  526301100           20        RL         141.0     31770   Pave   \n",
       "1      2  526350040           20        RH          80.0     11622   Pave   \n",
       "2      3  526351010           20        RL          81.0     14267   Pave   \n",
       "3      4  526353030           20        RL          93.0     11160   Pave   \n",
       "4      5  527105010           60        RL          74.0     13830   Pave   \n",
       "\n",
       "  Alley Lot Shape Land Contour    ...     Pool Area Pool QC  Fence  \\\n",
       "0   NaN       IR1          Lvl    ...             0     NaN    NaN   \n",
       "1   NaN       Reg          Lvl    ...             0     NaN  MnPrv   \n",
       "2   NaN       IR1          Lvl    ...             0     NaN    NaN   \n",
       "3   NaN       Reg          Lvl    ...             0     NaN    NaN   \n",
       "4   NaN       IR1          Lvl    ...             0     NaN  MnPrv   \n",
       "\n",
       "  Misc Feature Misc Val Mo Sold Yr Sold Sale Type  Sale Condition  SalePrice  \n",
       "0          NaN        0       5    2010       WD           Normal     215000  \n",
       "1          NaN        0       6    2010       WD           Normal     105000  \n",
       "2         Gar2    12500       6    2010       WD           Normal     172000  \n",
       "3          NaN        0       4    2010       WD           Normal     244000  \n",
       "4          NaN        0       3    2010       WD           Normal     189900  \n",
       "\n",
       "[5 rows x 82 columns]"
      ]
     },
     "execution_count": 1,
     "metadata": {},
     "output_type": "execute_result"
    }
   ],
   "source": [
    "import pandas as pd\n",
    "import numpy as np\n",
    "import matplotlib.pyplot as plt\n",
    "import seaborn as sns\n",
    "from sklearn.linear_model import  LinearRegression\n",
    "from sklearn.metrics import mean_squared_error\n",
    "from sklearn.model_selection import cross_val_score\n",
    "%matplotlib inline\n",
    "\n",
    "data = pd.read_csv('https://ww2.amstat.org/publications/jse/v19n3/decock/AmesHousing.txt',delimiter='\\t')\n",
    "\n",
    "data.head()\n"
   ]
  },
  {
   "cell_type": "markdown",
   "metadata": {},
   "source": [
    "We need to break up our data into a training and test set. We do this early so that we have a test set which hasn't influenced feature transformation and selection decisions. We do need to apply the same transformations to the test set though."
   ]
  },
  {
   "cell_type": "code",
   "execution_count": 2,
   "metadata": {
    "collapsed": true
   },
   "outputs": [],
   "source": [
    "from sklearn.model_selection import train_test_split\n",
    "\n",
    "# Shuffles by default, uses np.random by default. Test is 25% of original.\n",
    "np.random.seed(1)\n",
    "train, test = train_test_split(data)\n"
   ]
  },
  {
   "cell_type": "markdown",
   "metadata": {},
   "source": [
    "## Pipeline version of process\n",
    "### Transform > Select > Train and test\n",
    "\n",
    "These three cells (will) contain the whole pipeline packaged into functions, to allow quick reuse. If you are reading this notebook for the first time, it's probably worth reading the third cell in this section, which contains the cross validation test function which I'll use to test models as I go, but otherwise skip to the cells below."
   ]
  },
  {
   "cell_type": "code",
   "execution_count": 3,
   "metadata": {
    "collapsed": true
   },
   "outputs": [],
   "source": [
    "def transform_features(trainset,testset):\n",
    "    \n",
    "    # Give new names to preserve originals\n",
    "    t_train, t_test = trainset, testset\n",
    "    \n",
    "    # Apply transformation to both sets, so we'll stick them in a list.\n",
    "    frames = [t_train,t_test]\n",
    "    \n",
    "    for f in frames:\n",
    "    \n",
    "        # Remove columns with more than 25% of values missing\n",
    "        f = f.drop(['Alley','Fireplace Qu','Pool QC','Fence','Misc Feature'],axis=1)\n",
    "        \n",
    "        # PID (postal id) and Order (observation number) aren't predictive. The others here leak info.\n",
    "        f = f.drop(['PID','Order','Sale Type','Sale Condition','Mo Sold','Yr Sold'],axis=1)\n",
    "        \n",
    "    \n",
    "        # Turning off chained assignment warning for the next step\n",
    "        pd.options.mode.chained_assignment = None  # default='warn'\n",
    "        \n",
    "        # Selecting columns numeric columns\n",
    "        cols = f.select_dtypes(include=['float64']).columns.tolist()\n",
    "        # Fillna on selected columns\n",
    "        f[cols] = f[cols].fillna(f[cols].mean())\n",
    "        \n",
    "        \n",
    "        # Removing nominal columns with high proportion of nulls.\n",
    "        f = f.drop(['Street', 'Land Contour', 'Condition 2', 'Roof Matl', 'Heating', 'Central Air'],axis=1)\n",
    "        \n",
    "        # Filling nulls for nominal columns from which I want to create dummies.\n",
    "        f['Garage Type'].fillna('None',inplace=True)\n",
    "        f['Mas Vnr Type'].fillna('Unknown',inplace=True)\n",
    "        \n",
    "        # Creating dummies of nominals and ordinals with no obvious maps\n",
    "        cols = ['MS SubClass', 'MS Zoning', 'Lot Config', 'Neighborhood', 'Condition 1', 'Bldg Type', 'House Style',\n",
    "                'Roof Style', 'Exterior 1st', 'Exterior 2nd', 'Mas Vnr Type', 'Foundation', 'Garage Type','Lot Shape',\n",
    "                'Bsmt Exposure','BsmtFin Type 1','BsmtFin Type 2','Electrical','Functional','Garage Finish','Paved Drive']\n",
    "\n",
    "        \n",
    "        # Change to category type\n",
    "        for c in cols:\n",
    "            f[c] = f[c].astype('category')\n",
    "\n",
    "        # Get dummy cols and combine to dataset\n",
    "        dummy_cols = pd.get_dummies(f[cols])\n",
    "        f = pd.concat([f,dummy_cols],axis=1)\n",
    "        # Drop the original columns\n",
    "        f.drop(cols,axis=1,inplace=True)\n",
    "        \n",
    "        # Drop ordinals that are largely one value\n",
    "        f = f.drop(['Garage Qual','Garage Cond','Bsmt Cond','Utilities','Land Slope'],axis=1)\n",
    "\n",
    "        # Map convenient ordinals to values\n",
    "        m_vals = {'Ex':5,'Gd':4,'TA':3,'Fa':2,'Po':1,np.nan:0}\n",
    "        cols = ['Exter Qual','Exter Cond','Bsmt Qual','Heating QC','Kitchen Qual']\n",
    "        f[m_cols] = f[cols].applymap(m_vals.get)\n",
    "    \n",
    "    return t_train, t_test"
   ]
  },
  {
   "cell_type": "code",
   "execution_count": 4,
   "metadata": {
    "collapsed": true
   },
   "outputs": [],
   "source": [
    "def select_features(in_df):\n",
    "    selected_train = in_df[['Gr Liv Area','SalePrice']] \n",
    "    return selected_train"
   ]
  },
  {
   "cell_type": "code",
   "execution_count": 3,
   "metadata": {
    "collapsed": true
   },
   "outputs": [],
   "source": [
    "# This will cross validate on the training set and return the rmse for each fold and the average.\n",
    "def train_and_test(trainin,features,target='SalePrice',kf=10):\n",
    "    lrm = LinearRegression()\n",
    "    #train_data = select_features(inframe)\n",
    "    \n",
    "    mean_s_errors = cross_val_score(lrm,\n",
    "                                    trainin[features],\n",
    "                                    trainin[target],\n",
    "                                    scoring='neg_mean_squared_error',\n",
    "                                    cv=kf)\n",
    "    # Root mean squared errors for each fold\n",
    "    r_ms_errors = [abs(m)**(1/2) for m in mean_s_errors]\n",
    "    \n",
    "    # Average root mean squared error across all folds\n",
    "    avg_rms_error = np.mean(r_ms_errors)\n",
    "    \n",
    "    return r_ms_errors, avg_rms_error"
   ]
  },
  {
   "cell_type": "markdown",
   "metadata": {},
   "source": [
    "# Exploratory Cells\n",
    "\n",
    "## Transformations\n",
    "\n",
    "### Numerical nulls and data leaks "
   ]
  },
  {
   "cell_type": "code",
   "execution_count": 4,
   "metadata": {},
   "outputs": [
    {
     "data": {
      "text/plain": [
       "Alley           2054\n",
       "Fireplace Qu    1066\n",
       "Pool QC         2185\n",
       "Fence           1778\n",
       "Misc Feature    2117\n",
       "dtype: int64"
      ]
     },
     "execution_count": 4,
     "metadata": {},
     "output_type": "execute_result"
    }
   ],
   "source": [
    "# First looking for features with large numbers of nulls (more than 25%)\n",
    "# We'll remove these wholesale, assuming nothing too vital jumps out.\n",
    "\n",
    "num_val_counts = train.isnull().sum()\n",
    "num_val_counts[num_val_counts > 0.25*train.shape[0]]"
   ]
  },
  {
   "cell_type": "code",
   "execution_count": 5,
   "metadata": {
    "collapsed": true
   },
   "outputs": [],
   "source": [
    "# Looks ok, so dropping these. Starting new set for transformed data, in case we want to check data again.\n",
    "t_train = train[num_val_counts[num_val_counts < 0.25*train.shape[0]].index].copy()"
   ]
  },
  {
   "cell_type": "code",
   "execution_count": 6,
   "metadata": {},
   "outputs": [
    {
     "name": "stdout",
     "output_type": "stream",
     "text": [
      "<class 'pandas.core.frame.DataFrame'>\n",
      "Int64Index: 2197 entries, 533 to 1061\n",
      "Data columns (total 22 columns):\n",
      "Lot Frontage      1835 non-null float64\n",
      "Mas Vnr Type      2175 non-null object\n",
      "Mas Vnr Area      2175 non-null float64\n",
      "Bsmt Qual         2130 non-null object\n",
      "Bsmt Cond         2130 non-null object\n",
      "Bsmt Exposure     2128 non-null object\n",
      "BsmtFin Type 1    2130 non-null object\n",
      "BsmtFin SF 1      2196 non-null float64\n",
      "BsmtFin Type 2    2129 non-null object\n",
      "BsmtFin SF 2      2196 non-null float64\n",
      "Bsmt Unf SF       2196 non-null float64\n",
      "Total Bsmt SF     2196 non-null float64\n",
      "Electrical        2196 non-null object\n",
      "Bsmt Full Bath    2196 non-null float64\n",
      "Bsmt Half Bath    2196 non-null float64\n",
      "Garage Type       2077 non-null object\n",
      "Garage Yr Blt     2075 non-null float64\n",
      "Garage Finish     2075 non-null object\n",
      "Garage Cars       2196 non-null float64\n",
      "Garage Area       2196 non-null float64\n",
      "Garage Qual       2075 non-null object\n",
      "Garage Cond       2075 non-null object\n",
      "dtypes: float64(11), object(11)\n",
      "memory usage: 394.8+ KB\n"
     ]
    }
   ],
   "source": [
    "# Reassign to drop the four missing columns\n",
    "num_val_counts = t_train.isnull().sum()\n",
    "\n",
    "# Now we'll take a look at columns with fewer but still non-zero nulls.\n",
    "t_train[num_val_counts[num_val_counts > 0].index].info()"
   ]
  },
  {
   "cell_type": "markdown",
   "metadata": {},
   "source": [
    "From the data dictionary we can see all the numeric columns here are ordinal or continuous, so we can replace nulls in these columns with the mean for the column without creating nonsense values."
   ]
  },
  {
   "cell_type": "code",
   "execution_count": 7,
   "metadata": {},
   "outputs": [
    {
     "data": {
      "text/html": [
       "<div>\n",
       "<style>\n",
       "    .dataframe thead tr:only-child th {\n",
       "        text-align: right;\n",
       "    }\n",
       "\n",
       "    .dataframe thead th {\n",
       "        text-align: left;\n",
       "    }\n",
       "\n",
       "    .dataframe tbody tr th {\n",
       "        vertical-align: top;\n",
       "    }\n",
       "</style>\n",
       "<table border=\"1\" class=\"dataframe\">\n",
       "  <thead>\n",
       "    <tr style=\"text-align: right;\">\n",
       "      <th></th>\n",
       "      <th>Order</th>\n",
       "      <th>PID</th>\n",
       "      <th>MS SubClass</th>\n",
       "      <th>MS Zoning</th>\n",
       "      <th>Lot Frontage</th>\n",
       "      <th>Lot Area</th>\n",
       "      <th>Street</th>\n",
       "      <th>Lot Shape</th>\n",
       "      <th>Land Contour</th>\n",
       "      <th>Utilities</th>\n",
       "      <th>...</th>\n",
       "      <th>Enclosed Porch</th>\n",
       "      <th>3Ssn Porch</th>\n",
       "      <th>Screen Porch</th>\n",
       "      <th>Pool Area</th>\n",
       "      <th>Misc Val</th>\n",
       "      <th>Mo Sold</th>\n",
       "      <th>Yr Sold</th>\n",
       "      <th>Sale Type</th>\n",
       "      <th>Sale Condition</th>\n",
       "      <th>SalePrice</th>\n",
       "    </tr>\n",
       "  </thead>\n",
       "  <tbody>\n",
       "    <tr>\n",
       "      <th>533</th>\n",
       "      <td>534</td>\n",
       "      <td>531363010</td>\n",
       "      <td>20</td>\n",
       "      <td>RL</td>\n",
       "      <td>80.000000</td>\n",
       "      <td>9605</td>\n",
       "      <td>Pave</td>\n",
       "      <td>Reg</td>\n",
       "      <td>Lvl</td>\n",
       "      <td>AllPub</td>\n",
       "      <td>...</td>\n",
       "      <td>0</td>\n",
       "      <td>0</td>\n",
       "      <td>0</td>\n",
       "      <td>0</td>\n",
       "      <td>0</td>\n",
       "      <td>4</td>\n",
       "      <td>2009</td>\n",
       "      <td>WD</td>\n",
       "      <td>Normal</td>\n",
       "      <td>159000</td>\n",
       "    </tr>\n",
       "    <tr>\n",
       "      <th>802</th>\n",
       "      <td>803</td>\n",
       "      <td>906203120</td>\n",
       "      <td>20</td>\n",
       "      <td>RL</td>\n",
       "      <td>90.000000</td>\n",
       "      <td>14684</td>\n",
       "      <td>Pave</td>\n",
       "      <td>IR1</td>\n",
       "      <td>Lvl</td>\n",
       "      <td>AllPub</td>\n",
       "      <td>...</td>\n",
       "      <td>0</td>\n",
       "      <td>0</td>\n",
       "      <td>0</td>\n",
       "      <td>0</td>\n",
       "      <td>0</td>\n",
       "      <td>6</td>\n",
       "      <td>2009</td>\n",
       "      <td>WD</td>\n",
       "      <td>Normal</td>\n",
       "      <td>271900</td>\n",
       "    </tr>\n",
       "    <tr>\n",
       "      <th>955</th>\n",
       "      <td>956</td>\n",
       "      <td>916176030</td>\n",
       "      <td>20</td>\n",
       "      <td>RL</td>\n",
       "      <td>69.549319</td>\n",
       "      <td>14375</td>\n",
       "      <td>Pave</td>\n",
       "      <td>IR1</td>\n",
       "      <td>Lvl</td>\n",
       "      <td>NoSeWa</td>\n",
       "      <td>...</td>\n",
       "      <td>0</td>\n",
       "      <td>0</td>\n",
       "      <td>233</td>\n",
       "      <td>0</td>\n",
       "      <td>0</td>\n",
       "      <td>1</td>\n",
       "      <td>2009</td>\n",
       "      <td>COD</td>\n",
       "      <td>Abnorml</td>\n",
       "      <td>137500</td>\n",
       "    </tr>\n",
       "    <tr>\n",
       "      <th>459</th>\n",
       "      <td>460</td>\n",
       "      <td>528180130</td>\n",
       "      <td>120</td>\n",
       "      <td>RL</td>\n",
       "      <td>48.000000</td>\n",
       "      <td>6472</td>\n",
       "      <td>Pave</td>\n",
       "      <td>Reg</td>\n",
       "      <td>Lvl</td>\n",
       "      <td>AllPub</td>\n",
       "      <td>...</td>\n",
       "      <td>0</td>\n",
       "      <td>0</td>\n",
       "      <td>0</td>\n",
       "      <td>0</td>\n",
       "      <td>0</td>\n",
       "      <td>4</td>\n",
       "      <td>2009</td>\n",
       "      <td>WD</td>\n",
       "      <td>Normal</td>\n",
       "      <td>248500</td>\n",
       "    </tr>\n",
       "    <tr>\n",
       "      <th>486</th>\n",
       "      <td>487</td>\n",
       "      <td>528290030</td>\n",
       "      <td>80</td>\n",
       "      <td>RL</td>\n",
       "      <td>61.000000</td>\n",
       "      <td>9734</td>\n",
       "      <td>Pave</td>\n",
       "      <td>IR1</td>\n",
       "      <td>Lvl</td>\n",
       "      <td>AllPub</td>\n",
       "      <td>...</td>\n",
       "      <td>0</td>\n",
       "      <td>0</td>\n",
       "      <td>0</td>\n",
       "      <td>0</td>\n",
       "      <td>0</td>\n",
       "      <td>5</td>\n",
       "      <td>2009</td>\n",
       "      <td>WD</td>\n",
       "      <td>Normal</td>\n",
       "      <td>167000</td>\n",
       "    </tr>\n",
       "  </tbody>\n",
       "</table>\n",
       "<p>5 rows × 77 columns</p>\n",
       "</div>"
      ],
      "text/plain": [
       "     Order        PID  MS SubClass MS Zoning  Lot Frontage  Lot Area Street  \\\n",
       "533    534  531363010           20        RL     80.000000      9605   Pave   \n",
       "802    803  906203120           20        RL     90.000000     14684   Pave   \n",
       "955    956  916176030           20        RL     69.549319     14375   Pave   \n",
       "459    460  528180130          120        RL     48.000000      6472   Pave   \n",
       "486    487  528290030           80        RL     61.000000      9734   Pave   \n",
       "\n",
       "    Lot Shape Land Contour Utilities    ...     Enclosed Porch 3Ssn Porch  \\\n",
       "533       Reg          Lvl    AllPub    ...                  0          0   \n",
       "802       IR1          Lvl    AllPub    ...                  0          0   \n",
       "955       IR1          Lvl    NoSeWa    ...                  0          0   \n",
       "459       Reg          Lvl    AllPub    ...                  0          0   \n",
       "486       IR1          Lvl    AllPub    ...                  0          0   \n",
       "\n",
       "    Screen Porch Pool Area Misc Val Mo Sold Yr Sold  Sale Type  \\\n",
       "533            0         0        0       4    2009        WD    \n",
       "802            0         0        0       6    2009        WD    \n",
       "955          233         0        0       1    2009        COD   \n",
       "459            0         0        0       4    2009        WD    \n",
       "486            0         0        0       5    2009        WD    \n",
       "\n",
       "     Sale Condition  SalePrice  \n",
       "533          Normal     159000  \n",
       "802          Normal     271900  \n",
       "955         Abnorml     137500  \n",
       "459          Normal     248500  \n",
       "486          Normal     167000  \n",
       "\n",
       "[5 rows x 77 columns]"
      ]
     },
     "execution_count": 7,
     "metadata": {},
     "output_type": "execute_result"
    }
   ],
   "source": [
    "# Select columns to replace\n",
    "cols = t_train.select_dtypes(include=['float64']).columns.tolist()\n",
    "\n",
    "# Fillna on selected columns\n",
    "fill_vals = t_train.loc[:,cols].mean()\n",
    "t_train.loc[:,cols] = t_train.loc[:,cols].fillna(fill_vals)\n",
    "\n",
    "t_train.head()"
   ]
  },
  {
   "cell_type": "markdown",
   "metadata": {},
   "source": [
    "We'll return to the string fields separately. Let's briefly take a diversion to remove columns that may leak info about the final sale (i.e. columns that contain data we won't have when making a prediction, like the Sale Month and Year). We'll drop all of these. Additionally, reading the documentation we can see that PID and Order are not going to be useful for us so we'll drop those too."
   ]
  },
  {
   "cell_type": "code",
   "execution_count": 8,
   "metadata": {
    "collapsed": true
   },
   "outputs": [],
   "source": [
    "leak_cols = ['Sale Type','Sale Condition','Mo Sold','Yr Sold','PID','Order']\n",
    "t_train = t_train.drop(leak_cols,axis=1)"
   ]
  },
  {
   "cell_type": "markdown",
   "metadata": {},
   "source": [
    "We'll do a quick test creating a model using all the numeric fields and cross validating."
   ]
  },
  {
   "cell_type": "code",
   "execution_count": 9,
   "metadata": {},
   "outputs": [
    {
     "name": "stdout",
     "output_type": "stream",
     "text": [
      "36101.6369321 \n",
      " 8283.43319608\n"
     ]
    }
   ],
   "source": [
    "select_cols = t_train.select_dtypes(exclude=['object']).columns.tolist()\n",
    "select_cols.remove('SalePrice')\n",
    "rmses, avg_rmse = train_and_test(t_train,select_cols)\n",
    "print(avg_rmse,'\\n',np.std(rmses))"
   ]
  },
  {
   "cell_type": "markdown",
   "metadata": {},
   "source": [
    "So the number to beat is an avg_rmse of 36k (standard deviation of ~8300)."
   ]
  },
  {
   "cell_type": "markdown",
   "metadata": {},
   "source": [
    "### Nominal features"
   ]
  },
  {
   "cell_type": "code",
   "execution_count": 10,
   "metadata": {},
   "outputs": [
    {
     "data": {
      "text/plain": [
       "MS SubClass       0\n",
       "MS Zoning         0\n",
       "Street            0\n",
       "Land Contour      0\n",
       "Lot Config        0\n",
       "Neighborhood      0\n",
       "Condition 1       0\n",
       "Condition 2       0\n",
       "Bldg Type         0\n",
       "House Style       0\n",
       "Roof Style        0\n",
       "Roof Matl         0\n",
       "Exterior 1st      0\n",
       "Exterior 2nd      0\n",
       "Mas Vnr Type     22\n",
       "Foundation        0\n",
       "Heating           0\n",
       "Central Air       0\n",
       "Garage Type     120\n",
       "dtype: int64"
      ]
     },
     "execution_count": 10,
     "metadata": {},
     "output_type": "execute_result"
    }
   ],
   "source": [
    "# Columns listed as nominal in the dictionary (minus those we've already dropped)\n",
    "nominals = ['MS SubClass','MS Zoning','Street','Land Contour','Lot Config',\n",
    "            'Neighborhood','Condition 1','Condition 2','Bldg Type','House Style',\n",
    "            'Roof Style','Roof Matl','Exterior 1st','Exterior 2nd','Mas Vnr Type',\n",
    "            'Foundation','Heating','Central Air','Garage Type']\n",
    "\n",
    "# A couple of stats on each column. Also stored in dictionary.\n",
    "t_train[nominals].isnull().sum()"
   ]
  },
  {
   "cell_type": "code",
   "execution_count": 12,
   "metadata": {},
   "outputs": [
    {
     "name": "stdout",
     "output_type": "stream",
     "text": [
      "MS SubClass \n",
      " % of rows with single value  0.371415566682 \n",
      " unique vals  15 \n",
      "\n",
      "MS Zoning \n",
      " % of rows with single value  0.77560309513 \n",
      " unique vals  7 \n",
      "\n",
      "Street \n",
      " % of rows with single value  0.995903504779 \n",
      " unique vals  2 \n",
      "\n",
      "Land Contour \n",
      " % of rows with single value  0.902594446973 \n",
      " unique vals  4 \n",
      "\n",
      "Lot Config \n",
      " % of rows with single value  0.726900318616 \n",
      " unique vals  5 \n",
      "\n",
      "Neighborhood \n",
      " % of rows with single value  0.147473827947 \n",
      " unique vals  28 \n",
      "\n",
      "Condition 1 \n",
      " % of rows with single value  0.862084660901 \n",
      " unique vals  9 \n",
      "\n",
      "Condition 2 \n",
      " % of rows with single value  0.989986345016 \n",
      " unique vals  8 \n",
      "\n",
      "Bldg Type \n",
      " % of rows with single value  0.826126536186 \n",
      " unique vals  5 \n",
      "\n",
      "House Style \n",
      " % of rows with single value  0.511151570323 \n",
      " unique vals  8 \n",
      "\n",
      "Roof Style \n",
      " % of rows with single value  0.789713245335 \n",
      " unique vals  6 \n",
      "\n",
      "Roof Matl \n",
      " % of rows with single value  0.985889849795 \n",
      " unique vals  8 \n",
      "\n",
      "Exterior 1st \n",
      " % of rows with single value  0.359581247155 \n",
      " unique vals  16 \n",
      "\n",
      "Exterior 2nd \n",
      " % of rows with single value  0.35593991807 \n",
      " unique vals  17 \n",
      "\n",
      "Mas Vnr Type \n",
      " % of rows with single value  0.594902139281 \n",
      " unique vals  6 \n",
      "\n",
      "Foundation \n",
      " % of rows with single value  0.455621301775 \n",
      " unique vals  6 \n",
      "\n",
      "Heating \n",
      " % of rows with single value  0.98224852071 \n",
      " unique vals  6 \n",
      "\n",
      "Central Air \n",
      " % of rows with single value  0.93218024579 \n",
      " unique vals  2 \n",
      "\n",
      "Garage Type \n",
      " % of rows with single value  0.599908966773 \n",
      " unique vals  7 \n",
      "\n"
     ]
    }
   ],
   "source": [
    "# Columns listed as nominal in the dictionary (minus those we've already dropped)\n",
    "nominals = ['MS SubClass','MS Zoning','Street','Land Contour','Lot Config',\n",
    "            'Neighborhood','Condition 1','Condition 2','Bldg Type','House Style',\n",
    "            'Roof Style','Roof Matl','Exterior 1st','Exterior 2nd','Mas Vnr Type',\n",
    "            'Foundation','Heating','Central Air','Garage Type']\n",
    "\n",
    "# A couple of stats on each column. Also stored in dictionary.\n",
    "noms = {}\n",
    "\n",
    "for n in nominals:\n",
    "    counts = t_train[n].value_counts(dropna=False)\n",
    "    \n",
    "    # Dictionary will contain % of rows belonging to the most common category\n",
    "    noms[n] = [counts.max()/counts.sum(),counts.shape[0]]\n",
    "    print(n,'\\n % of rows with single value ',counts.max()/counts.sum(),'\\n unique vals ',counts.shape[0],'\\n')"
   ]
  },
  {
   "cell_type": "markdown",
   "metadata": {},
   "source": [
    "Columns where a high number of rows have the same value won't have much use in the model, so can probably be discounted. We'll drop those here. I'm picking a threshold of 90% here."
   ]
  },
  {
   "cell_type": "code",
   "execution_count": 13,
   "metadata": {},
   "outputs": [
    {
     "name": "stdout",
     "output_type": "stream",
     "text": [
      "(2197, 71)\n",
      "Street\n",
      "Land Contour\n",
      "Condition 2\n",
      "Roof Matl\n",
      "Heating\n",
      "Central Air\n",
      "(2197, 65)\n"
     ]
    }
   ],
   "source": [
    "print(t_train.shape)\n",
    "for n in noms:\n",
    "    if noms[n][0] > 0.9:\n",
    "        print(n)\n",
    "        # Drop from our transformed data and also from nominals list\n",
    "        t_train.drop(n,axis=1,inplace=True)\n",
    "        nominals.remove(n)\n",
    "print(t_train.shape)"
   ]
  },
  {
   "cell_type": "markdown",
   "metadata": {},
   "source": [
    "Next we'll think about whether or not we want to transform the other nominal columns into dummy numerical columns. Scanning back over the list a few cells up, there are a few columns with a number of categories but they tend to be fairly important. The numbers aren't in the hundreds, so I'm inclined to keep them all. We do need to deal with nulls though, as null values throw an error when we try to change it to a category."
   ]
  },
  {
   "cell_type": "code",
   "execution_count": 14,
   "metadata": {},
   "outputs": [
    {
     "data": {
      "text/plain": [
       "MS SubClass       0\n",
       "MS Zoning         0\n",
       "Lot Config        0\n",
       "Neighborhood      0\n",
       "Condition 1       0\n",
       "Bldg Type         0\n",
       "House Style       0\n",
       "Roof Style        0\n",
       "Exterior 1st      0\n",
       "Exterior 2nd      0\n",
       "Mas Vnr Type     22\n",
       "Foundation        0\n",
       "Garage Type     120\n",
       "dtype: int64"
      ]
     },
     "execution_count": 14,
     "metadata": {},
     "output_type": "execute_result"
    }
   ],
   "source": [
    "t_train[nominals].isnull().sum()"
   ]
  },
  {
   "cell_type": "code",
   "execution_count": 15,
   "metadata": {},
   "outputs": [
    {
     "data": {
      "text/plain": [
       "Attchd     1318\n",
       "Detchd      568\n",
       "BuiltIn     137\n",
       "NaN         120\n",
       "Basment      28\n",
       "2Types       17\n",
       "CarPort       9\n",
       "Name: Garage Type, dtype: int64"
      ]
     },
     "execution_count": 15,
     "metadata": {},
     "output_type": "execute_result"
    }
   ],
   "source": [
    "t_train['Garage Type'].value_counts(dropna=False)"
   ]
  },
  {
   "cell_type": "code",
   "execution_count": 16,
   "metadata": {},
   "outputs": [
    {
     "data": {
      "text/plain": [
       "None       1307\n",
       "BrkFace     658\n",
       "Stone       190\n",
       "NaN          22\n",
       "BrkCmn       19\n",
       "CBlock        1\n",
       "Name: Mas Vnr Type, dtype: int64"
      ]
     },
     "execution_count": 16,
     "metadata": {},
     "output_type": "execute_result"
    }
   ],
   "source": [
    "t_train['Mas Vnr Type'].value_counts(dropna=False)"
   ]
  },
  {
   "cell_type": "markdown",
   "metadata": {},
   "source": [
    "The data dictionary lists the NaN garage types as 'no garage'. I'm inclined to trust the dictionary, so I'll fill those with a string 'None'. For Mas Vnr Type, none is already an option and the dictionary doesn't mention nulls, so I'll replace those with Unknown."
   ]
  },
  {
   "cell_type": "code",
   "execution_count": 17,
   "metadata": {
    "collapsed": true
   },
   "outputs": [],
   "source": [
    "t_train['Garage Type'].fillna('None',inplace=True)\n",
    "t_train['Mas Vnr Type'].fillna('Unknown',inplace=True)"
   ]
  },
  {
   "cell_type": "code",
   "execution_count": 18,
   "metadata": {},
   "outputs": [
    {
     "name": "stdout",
     "output_type": "stream",
     "text": [
      "['MS SubClass', 'MS Zoning', 'Lot Config', 'Neighborhood', 'Condition 1', 'Bldg Type', 'House Style', 'Roof Style', 'Exterior 1st', 'Exterior 2nd', 'Mas Vnr Type', 'Foundation', 'Garage Type']\n"
     ]
    }
   ],
   "source": [
    "print(nominals)"
   ]
  },
  {
   "cell_type": "code",
   "execution_count": 19,
   "metadata": {
    "collapsed": true
   },
   "outputs": [],
   "source": [
    "# Change to category type\n",
    "for n in nominals:\n",
    "    t_train[n] = t_train[n].astype('category')\n",
    "\n",
    "# Get dummy cols and combine to dataset\n",
    "dummy_cols = pd.get_dummies(t_train[nominals])\n",
    "t_train = pd.concat([t_train,dummy_cols],axis=1)\n",
    "\n",
    "# Drop the original columns\n",
    "t_train.drop(nominals,axis=1,inplace=True)"
   ]
  },
  {
   "cell_type": "markdown",
   "metadata": {},
   "source": [
    "Let's include these and cross validate a model briefly. No particular reason to expect the model will be significantly better than before since we haven't done any real feature selection yet, I'm just curious how it's progressing."
   ]
  },
  {
   "cell_type": "code",
   "execution_count": 20,
   "metadata": {},
   "outputs": [
    {
     "name": "stdout",
     "output_type": "stream",
     "text": [
      "32984.6562297 \n",
      " 6880.50832026\n"
     ]
    }
   ],
   "source": [
    "select_cols = t_train.select_dtypes(exclude=['object']).columns.tolist()\n",
    "select_cols.remove('SalePrice')\n",
    "rmses, avg_rmse = train_and_test(t_train,select_cols)\n",
    "print(avg_rmse,'\\n',np.std(rmses))"
   ]
  },
  {
   "cell_type": "markdown",
   "metadata": {},
   "source": [
    "That is a little better. Moving on."
   ]
  },
  {
   "cell_type": "markdown",
   "metadata": {},
   "source": [
    "### Ordinal string columns\n",
    "\n",
    "String columns with a meaningful order can be mapped to numeric values, where I can reasonably decided on a mapping pattern. If I can't decide how to map the columns, I'll treat them in the same was as the nominal columns (change to categories and create dummies)."
   ]
  },
  {
   "cell_type": "code",
   "execution_count": 21,
   "metadata": {},
   "outputs": [
    {
     "data": {
      "text/plain": [
       "['Lot Shape',\n",
       " 'Utilities',\n",
       " 'Land Slope',\n",
       " 'Exter Qual',\n",
       " 'Exter Cond',\n",
       " 'Bsmt Qual',\n",
       " 'Bsmt Cond',\n",
       " 'Bsmt Exposure',\n",
       " 'BsmtFin Type 1',\n",
       " 'BsmtFin Type 2',\n",
       " 'Heating QC',\n",
       " 'Electrical',\n",
       " 'Kitchen Qual',\n",
       " 'Functional',\n",
       " 'Garage Finish',\n",
       " 'Garage Qual',\n",
       " 'Garage Cond',\n",
       " 'Paved Drive']"
      ]
     },
     "execution_count": 21,
     "metadata": {},
     "output_type": "execute_result"
    }
   ],
   "source": [
    "t_train.select_dtypes(include=['object']).columns.tolist()"
   ]
  },
  {
   "cell_type": "markdown",
   "metadata": {},
   "source": [
    "From the dictionary, eight of these columns use a standard scale of Excellent to Poor (5 steps - some with nulls where the property doesn't have the item rated)."
   ]
  },
  {
   "cell_type": "code",
   "execution_count": 22,
   "metadata": {},
   "outputs": [
    {
     "name": "stdout",
     "output_type": "stream",
     "text": [
      "\n",
      " Exter Qual  - Non-null values: 2197\n",
      "TA    1321\n",
      "Gd     760\n",
      "Ex      91\n",
      "Fa      25\n",
      "Name: Exter Qual, dtype: int64\n",
      "\n",
      " Exter Cond  - Non-null values: 2197\n",
      "TA    1922\n",
      "Gd     218\n",
      "Fa      46\n",
      "Ex       8\n",
      "Po       3\n",
      "Name: Exter Cond, dtype: int64\n",
      "\n",
      " Bsmt Qual  - Non-null values: 2130\n",
      "Gd     930\n",
      "TA     929\n",
      "Ex     198\n",
      "Fa      71\n",
      "NaN     67\n",
      "Po       2\n",
      "Name: Bsmt Qual, dtype: int64\n",
      "\n",
      " Bsmt Cond  - Non-null values: 2130\n",
      "TA     1970\n",
      "Gd       83\n",
      "Fa       72\n",
      "NaN      67\n",
      "Po        3\n",
      "Ex        2\n",
      "Name: Bsmt Cond, dtype: int64\n",
      "\n",
      " Heating QC  - Non-null values: 2197\n",
      "Ex    1126\n",
      "TA     632\n",
      "Gd     365\n",
      "Fa      71\n",
      "Po       3\n",
      "Name: Heating QC, dtype: int64\n",
      "\n",
      " Kitchen Qual  - Non-null values: 2197\n",
      "TA    1105\n",
      "Gd     870\n",
      "Ex     164\n",
      "Fa      57\n",
      "Po       1\n",
      "Name: Kitchen Qual, dtype: int64\n",
      "\n",
      " Garage Qual  - Non-null values: 2075\n",
      "TA     1957\n",
      "NaN     122\n",
      "Fa       93\n",
      "Gd       18\n",
      "Po        5\n",
      "Ex        2\n",
      "Name: Garage Qual, dtype: int64\n",
      "\n",
      " Garage Cond  - Non-null values: 2075\n",
      "TA     1993\n",
      "NaN     122\n",
      "Fa       55\n",
      "Po       13\n",
      "Gd       11\n",
      "Ex        3\n",
      "Name: Garage Cond, dtype: int64\n"
     ]
    }
   ],
   "source": [
    "cols = ['Exter Qual','Exter Cond','Bsmt Qual','Bsmt Cond','Heating QC','Kitchen Qual','Garage Qual','Garage Cond']\n",
    "\n",
    "for c in cols:\n",
    "    print('\\n',c,' - Non-null values:',t_train[t_train[c].isnull() == False].shape[0])\n",
    "    print(t_train[c].value_counts(dropna=False))"
   ]
  },
  {
   "cell_type": "markdown",
   "metadata": {},
   "source": [
    "Garage Quality and Condition are both ~95% one value, with nulls being the second most common category. This means both offer very little to the model, so aren't likely worth transforming. Basement condiditon is similar. External condition is marginal but I'm inclined to include it as I feel it should have a noticable predictive effect.\n",
    "\n",
    "For the others, I'll use a map to transform the categories into values. 5 = Excellent, 1 = Poor (null = 0)."
   ]
  },
  {
   "cell_type": "code",
   "execution_count": 23,
   "metadata": {},
   "outputs": [
    {
     "name": "stdout",
     "output_type": "stream",
     "text": [
      "     Exter Qual  Exter Cond  Bsmt Qual  Heating QC  Kitchen Qual\n",
      "533           4           3          4           5             4\n",
      "802           4           3          4           4             4\n",
      "955           3           3          3           4             4\n",
      "459           5           3          5           5             5\n",
      "486           4           3          4           5             4\n"
     ]
    }
   ],
   "source": [
    "t_train = t_train.drop(['Garage Qual','Garage Cond','Bsmt Cond'],axis=1)\n",
    "\n",
    "m_vals = {'Ex':5,'Gd':4,'TA':3,'Fa':2,'Po':1,np.nan:0}\n",
    "m_cols = ['Exter Qual','Exter Cond','Bsmt Qual','Heating QC','Kitchen Qual']\n",
    "\n",
    "t_train[m_cols] = t_train[m_cols].applymap(m_vals.get)\n",
    "print(t_train[m_cols].head())"
   ]
  },
  {
   "cell_type": "code",
   "execution_count": 24,
   "metadata": {},
   "outputs": [
    {
     "name": "stdout",
     "output_type": "stream",
     "text": [
      "\n",
      " Lot Shape  - Non-null values: 2197\n",
      "Reg    1389\n",
      "IR1     737\n",
      "IR2      60\n",
      "IR3      11\n",
      "Name: Lot Shape, dtype: int64\n",
      "\n",
      " Utilities  - Non-null values: 2197\n",
      "AllPub    2194\n",
      "NoSewr       2\n",
      "NoSeWa       1\n",
      "Name: Utilities, dtype: int64\n",
      "\n",
      " Land Slope  - Non-null values: 2197\n",
      "Gtl    2091\n",
      "Mod      93\n",
      "Sev      13\n",
      "Name: Land Slope, dtype: int64\n",
      "\n",
      " Bsmt Exposure  - Non-null values: 2128\n",
      "No     1406\n",
      "Av      325\n",
      "Gd      227\n",
      "Mn      170\n",
      "NaN      69\n",
      "Name: Bsmt Exposure, dtype: int64\n",
      "\n",
      " BsmtFin Type 1  - Non-null values: 2130\n",
      "GLQ    664\n",
      "Unf    644\n",
      "ALQ    332\n",
      "Rec    204\n",
      "BLQ    179\n",
      "LwQ    107\n",
      "NaN     67\n",
      "Name: BsmtFin Type 1, dtype: int64\n",
      "\n",
      " BsmtFin Type 2  - Non-null values: 2129\n",
      "Unf    1871\n",
      "Rec      76\n",
      "LwQ      69\n",
      "NaN      68\n",
      "BLQ      52\n",
      "ALQ      38\n",
      "GLQ      23\n",
      "Name: BsmtFin Type 2, dtype: int64\n",
      "\n",
      " Electrical  - Non-null values: 2196\n",
      "SBrkr    2020\n",
      "FuseA     131\n",
      "FuseF      38\n",
      "FuseP       6\n",
      "Mix         1\n",
      "NaN         1\n",
      "Name: Electrical, dtype: int64\n",
      "\n",
      " Functional  - Non-null values: 2197\n",
      "Typ     2037\n",
      "Min2      58\n",
      "Min1      49\n",
      "Mod       27\n",
      "Maj1      17\n",
      "Maj2       7\n",
      "Sal        1\n",
      "Sev        1\n",
      "Name: Functional, dtype: int64\n",
      "\n",
      " Garage Finish  - Non-null values: 2075\n",
      "Unf    902\n",
      "RFn    629\n",
      "Fin    544\n",
      "NaN    122\n",
      "Name: Garage Finish, dtype: int64\n",
      "\n",
      " Paved Drive  - Non-null values: 2197\n",
      "Y    1986\n",
      "N     161\n",
      "P      50\n",
      "Name: Paved Drive, dtype: int64\n"
     ]
    }
   ],
   "source": [
    "# Remaining few ordinal columns\n",
    "cols = ['Lot Shape','Utilities','Land Slope','Bsmt Exposure','BsmtFin Type 1','BsmtFin Type 2',\n",
    "        'Electrical','Functional','Garage Finish','Paved Drive']\n",
    "\n",
    "for c in cols:\n",
    "    print('\\n',c,' - Non-null values:',t_train[t_train[c].isnull() == False].shape[0])\n",
    "    print(t_train[c].value_counts(dropna=False))"
   ]
  },
  {
   "cell_type": "markdown",
   "metadata": {},
   "source": [
    "I'm less comfortable applying a mapping to these categories, as it's less obvious how to weight each value. Instead, I will convert each to dummy variables, as I did with the nominal columns. I can revisit this later and see if I can get any better results. I will drop utilities and land slope though, due to overwhelming proportion of rows belonging to a single value."
   ]
  },
  {
   "cell_type": "code",
   "execution_count": 25,
   "metadata": {
    "collapsed": true
   },
   "outputs": [],
   "source": [
    "t_train.drop(['Utilities','Land Slope'],axis=1,inplace=True)\n",
    "\n",
    "ordinals = ['Lot Shape','Bsmt Exposure','BsmtFin Type 1','BsmtFin Type 2',\n",
    "        'Electrical','Functional','Garage Finish','Paved Drive']\n",
    "\n",
    "# Change to category type\n",
    "for n in ordinals:\n",
    "    t_train[n] = t_train[n].astype('category',errors='ignore')\n",
    "\n",
    "# Get dummy cols and combine to dataset\n",
    "dummy_cols = pd.get_dummies(t_train[ordinals])\n",
    "t_train = pd.concat([t_train,dummy_cols],axis=1)\n",
    "\n",
    "# Drop the original columns\n",
    "t_train.drop(ordinals,axis=1,inplace=True)"
   ]
  },
  {
   "cell_type": "markdown",
   "metadata": {},
   "source": [
    "Again, I'm curious how the model is progressing so I'm going to just run it again briefly."
   ]
  },
  {
   "cell_type": "code",
   "execution_count": 26,
   "metadata": {},
   "outputs": [
    {
     "name": "stdout",
     "output_type": "stream",
     "text": [
      "31890.3350239 \n",
      " 7177.49353512\n"
     ]
    }
   ],
   "source": [
    "select_cols = t_train.select_dtypes(exclude=['object']).columns.tolist()\n",
    "select_cols.remove('SalePrice')\n",
    "rmses, avg_rmse = train_and_test(t_train,select_cols)\n",
    "print(avg_rmse,'\\n',np.std(rmses))"
   ]
  },
  {
   "cell_type": "markdown",
   "metadata": {},
   "source": [
    "### Less useful numerical features\n",
    "\n",
    "The year columns aren't terribly useful as they stand. We'll transform them into Age based columns instead (using 2010 as the year we are counting from, as that is when the data was compiled)."
   ]
  },
  {
   "cell_type": "code",
   "execution_count": 28,
   "metadata": {},
   "outputs": [
    {
     "ename": "KeyError",
     "evalue": "'Year Built'",
     "output_type": "error",
     "traceback": [
      "\u001b[1;31m---------------------------------------------------------------------------\u001b[0m",
      "\u001b[1;31mKeyError\u001b[0m                                  Traceback (most recent call last)",
      "\u001b[1;32m~\\AppData\\Local\\Continuum\\anaconda3\\lib\\site-packages\\pandas\\core\\indexes\\base.py\u001b[0m in \u001b[0;36mget_loc\u001b[1;34m(self, key, method, tolerance)\u001b[0m\n\u001b[0;32m   2441\u001b[0m             \u001b[1;32mtry\u001b[0m\u001b[1;33m:\u001b[0m\u001b[1;33m\u001b[0m\u001b[0m\n\u001b[1;32m-> 2442\u001b[1;33m                 \u001b[1;32mreturn\u001b[0m \u001b[0mself\u001b[0m\u001b[1;33m.\u001b[0m\u001b[0m_engine\u001b[0m\u001b[1;33m.\u001b[0m\u001b[0mget_loc\u001b[0m\u001b[1;33m(\u001b[0m\u001b[0mkey\u001b[0m\u001b[1;33m)\u001b[0m\u001b[1;33m\u001b[0m\u001b[0m\n\u001b[0m\u001b[0;32m   2443\u001b[0m             \u001b[1;32mexcept\u001b[0m \u001b[0mKeyError\u001b[0m\u001b[1;33m:\u001b[0m\u001b[1;33m\u001b[0m\u001b[0m\n",
      "\u001b[1;32mpandas\\_libs\\index.pyx\u001b[0m in \u001b[0;36mpandas._libs.index.IndexEngine.get_loc\u001b[1;34m()\u001b[0m\n",
      "\u001b[1;32mpandas\\_libs\\index.pyx\u001b[0m in \u001b[0;36mpandas._libs.index.IndexEngine.get_loc\u001b[1;34m()\u001b[0m\n",
      "\u001b[1;32mpandas\\_libs\\hashtable_class_helper.pxi\u001b[0m in \u001b[0;36mpandas._libs.hashtable.PyObjectHashTable.get_item\u001b[1;34m()\u001b[0m\n",
      "\u001b[1;32mpandas\\_libs\\hashtable_class_helper.pxi\u001b[0m in \u001b[0;36mpandas._libs.hashtable.PyObjectHashTable.get_item\u001b[1;34m()\u001b[0m\n",
      "\u001b[1;31mKeyError\u001b[0m: 'Year Built'",
      "\nDuring handling of the above exception, another exception occurred:\n",
      "\u001b[1;31mKeyError\u001b[0m                                  Traceback (most recent call last)",
      "\u001b[1;32m<ipython-input-28-321a4bf21242>\u001b[0m in \u001b[0;36m<module>\u001b[1;34m()\u001b[0m\n\u001b[0;32m      3\u001b[0m \u001b[1;33m\u001b[0m\u001b[0m\n\u001b[0;32m      4\u001b[0m \u001b[1;32mfor\u001b[0m \u001b[0mi\u001b[0m\u001b[1;33m,\u001b[0m\u001b[0my\u001b[0m \u001b[1;32min\u001b[0m \u001b[0menumerate\u001b[0m\u001b[1;33m(\u001b[0m\u001b[0myear_cols\u001b[0m\u001b[1;33m)\u001b[0m\u001b[1;33m:\u001b[0m\u001b[1;33m\u001b[0m\u001b[0m\n\u001b[1;32m----> 5\u001b[1;33m     \u001b[0mt_train\u001b[0m\u001b[1;33m[\u001b[0m\u001b[0mlabels\u001b[0m\u001b[1;33m[\u001b[0m\u001b[0mi\u001b[0m\u001b[1;33m]\u001b[0m\u001b[1;33m]\u001b[0m \u001b[1;33m=\u001b[0m \u001b[1;36m2010\u001b[0m \u001b[1;33m-\u001b[0m \u001b[0mt_train\u001b[0m\u001b[1;33m[\u001b[0m\u001b[0my\u001b[0m\u001b[1;33m]\u001b[0m\u001b[1;33m\u001b[0m\u001b[0m\n\u001b[0m\u001b[0;32m      6\u001b[0m \u001b[1;33m\u001b[0m\u001b[0m\n\u001b[0;32m      7\u001b[0m \u001b[1;31m# We'll also make a 'Years to remodel' column\u001b[0m\u001b[1;33m\u001b[0m\u001b[1;33m\u001b[0m\u001b[0m\n",
      "\u001b[1;32m~\\AppData\\Local\\Continuum\\anaconda3\\lib\\site-packages\\pandas\\core\\frame.py\u001b[0m in \u001b[0;36m__getitem__\u001b[1;34m(self, key)\u001b[0m\n\u001b[0;32m   1962\u001b[0m             \u001b[1;32mreturn\u001b[0m \u001b[0mself\u001b[0m\u001b[1;33m.\u001b[0m\u001b[0m_getitem_multilevel\u001b[0m\u001b[1;33m(\u001b[0m\u001b[0mkey\u001b[0m\u001b[1;33m)\u001b[0m\u001b[1;33m\u001b[0m\u001b[0m\n\u001b[0;32m   1963\u001b[0m         \u001b[1;32melse\u001b[0m\u001b[1;33m:\u001b[0m\u001b[1;33m\u001b[0m\u001b[0m\n\u001b[1;32m-> 1964\u001b[1;33m             \u001b[1;32mreturn\u001b[0m \u001b[0mself\u001b[0m\u001b[1;33m.\u001b[0m\u001b[0m_getitem_column\u001b[0m\u001b[1;33m(\u001b[0m\u001b[0mkey\u001b[0m\u001b[1;33m)\u001b[0m\u001b[1;33m\u001b[0m\u001b[0m\n\u001b[0m\u001b[0;32m   1965\u001b[0m \u001b[1;33m\u001b[0m\u001b[0m\n\u001b[0;32m   1966\u001b[0m     \u001b[1;32mdef\u001b[0m \u001b[0m_getitem_column\u001b[0m\u001b[1;33m(\u001b[0m\u001b[0mself\u001b[0m\u001b[1;33m,\u001b[0m \u001b[0mkey\u001b[0m\u001b[1;33m)\u001b[0m\u001b[1;33m:\u001b[0m\u001b[1;33m\u001b[0m\u001b[0m\n",
      "\u001b[1;32m~\\AppData\\Local\\Continuum\\anaconda3\\lib\\site-packages\\pandas\\core\\frame.py\u001b[0m in \u001b[0;36m_getitem_column\u001b[1;34m(self, key)\u001b[0m\n\u001b[0;32m   1969\u001b[0m         \u001b[1;31m# get column\u001b[0m\u001b[1;33m\u001b[0m\u001b[1;33m\u001b[0m\u001b[0m\n\u001b[0;32m   1970\u001b[0m         \u001b[1;32mif\u001b[0m \u001b[0mself\u001b[0m\u001b[1;33m.\u001b[0m\u001b[0mcolumns\u001b[0m\u001b[1;33m.\u001b[0m\u001b[0mis_unique\u001b[0m\u001b[1;33m:\u001b[0m\u001b[1;33m\u001b[0m\u001b[0m\n\u001b[1;32m-> 1971\u001b[1;33m             \u001b[1;32mreturn\u001b[0m \u001b[0mself\u001b[0m\u001b[1;33m.\u001b[0m\u001b[0m_get_item_cache\u001b[0m\u001b[1;33m(\u001b[0m\u001b[0mkey\u001b[0m\u001b[1;33m)\u001b[0m\u001b[1;33m\u001b[0m\u001b[0m\n\u001b[0m\u001b[0;32m   1972\u001b[0m \u001b[1;33m\u001b[0m\u001b[0m\n\u001b[0;32m   1973\u001b[0m         \u001b[1;31m# duplicate columns & possible reduce dimensionality\u001b[0m\u001b[1;33m\u001b[0m\u001b[1;33m\u001b[0m\u001b[0m\n",
      "\u001b[1;32m~\\AppData\\Local\\Continuum\\anaconda3\\lib\\site-packages\\pandas\\core\\generic.py\u001b[0m in \u001b[0;36m_get_item_cache\u001b[1;34m(self, item)\u001b[0m\n\u001b[0;32m   1643\u001b[0m         \u001b[0mres\u001b[0m \u001b[1;33m=\u001b[0m \u001b[0mcache\u001b[0m\u001b[1;33m.\u001b[0m\u001b[0mget\u001b[0m\u001b[1;33m(\u001b[0m\u001b[0mitem\u001b[0m\u001b[1;33m)\u001b[0m\u001b[1;33m\u001b[0m\u001b[0m\n\u001b[0;32m   1644\u001b[0m         \u001b[1;32mif\u001b[0m \u001b[0mres\u001b[0m \u001b[1;32mis\u001b[0m \u001b[1;32mNone\u001b[0m\u001b[1;33m:\u001b[0m\u001b[1;33m\u001b[0m\u001b[0m\n\u001b[1;32m-> 1645\u001b[1;33m             \u001b[0mvalues\u001b[0m \u001b[1;33m=\u001b[0m \u001b[0mself\u001b[0m\u001b[1;33m.\u001b[0m\u001b[0m_data\u001b[0m\u001b[1;33m.\u001b[0m\u001b[0mget\u001b[0m\u001b[1;33m(\u001b[0m\u001b[0mitem\u001b[0m\u001b[1;33m)\u001b[0m\u001b[1;33m\u001b[0m\u001b[0m\n\u001b[0m\u001b[0;32m   1646\u001b[0m             \u001b[0mres\u001b[0m \u001b[1;33m=\u001b[0m \u001b[0mself\u001b[0m\u001b[1;33m.\u001b[0m\u001b[0m_box_item_values\u001b[0m\u001b[1;33m(\u001b[0m\u001b[0mitem\u001b[0m\u001b[1;33m,\u001b[0m \u001b[0mvalues\u001b[0m\u001b[1;33m)\u001b[0m\u001b[1;33m\u001b[0m\u001b[0m\n\u001b[0;32m   1647\u001b[0m             \u001b[0mcache\u001b[0m\u001b[1;33m[\u001b[0m\u001b[0mitem\u001b[0m\u001b[1;33m]\u001b[0m \u001b[1;33m=\u001b[0m \u001b[0mres\u001b[0m\u001b[1;33m\u001b[0m\u001b[0m\n",
      "\u001b[1;32m~\\AppData\\Local\\Continuum\\anaconda3\\lib\\site-packages\\pandas\\core\\internals.py\u001b[0m in \u001b[0;36mget\u001b[1;34m(self, item, fastpath)\u001b[0m\n\u001b[0;32m   3588\u001b[0m \u001b[1;33m\u001b[0m\u001b[0m\n\u001b[0;32m   3589\u001b[0m             \u001b[1;32mif\u001b[0m \u001b[1;32mnot\u001b[0m \u001b[0misnull\u001b[0m\u001b[1;33m(\u001b[0m\u001b[0mitem\u001b[0m\u001b[1;33m)\u001b[0m\u001b[1;33m:\u001b[0m\u001b[1;33m\u001b[0m\u001b[0m\n\u001b[1;32m-> 3590\u001b[1;33m                 \u001b[0mloc\u001b[0m \u001b[1;33m=\u001b[0m \u001b[0mself\u001b[0m\u001b[1;33m.\u001b[0m\u001b[0mitems\u001b[0m\u001b[1;33m.\u001b[0m\u001b[0mget_loc\u001b[0m\u001b[1;33m(\u001b[0m\u001b[0mitem\u001b[0m\u001b[1;33m)\u001b[0m\u001b[1;33m\u001b[0m\u001b[0m\n\u001b[0m\u001b[0;32m   3591\u001b[0m             \u001b[1;32melse\u001b[0m\u001b[1;33m:\u001b[0m\u001b[1;33m\u001b[0m\u001b[0m\n\u001b[0;32m   3592\u001b[0m                 \u001b[0mindexer\u001b[0m \u001b[1;33m=\u001b[0m \u001b[0mnp\u001b[0m\u001b[1;33m.\u001b[0m\u001b[0marange\u001b[0m\u001b[1;33m(\u001b[0m\u001b[0mlen\u001b[0m\u001b[1;33m(\u001b[0m\u001b[0mself\u001b[0m\u001b[1;33m.\u001b[0m\u001b[0mitems\u001b[0m\u001b[1;33m)\u001b[0m\u001b[1;33m)\u001b[0m\u001b[1;33m[\u001b[0m\u001b[0misnull\u001b[0m\u001b[1;33m(\u001b[0m\u001b[0mself\u001b[0m\u001b[1;33m.\u001b[0m\u001b[0mitems\u001b[0m\u001b[1;33m)\u001b[0m\u001b[1;33m]\u001b[0m\u001b[1;33m\u001b[0m\u001b[0m\n",
      "\u001b[1;32m~\\AppData\\Local\\Continuum\\anaconda3\\lib\\site-packages\\pandas\\core\\indexes\\base.py\u001b[0m in \u001b[0;36mget_loc\u001b[1;34m(self, key, method, tolerance)\u001b[0m\n\u001b[0;32m   2442\u001b[0m                 \u001b[1;32mreturn\u001b[0m \u001b[0mself\u001b[0m\u001b[1;33m.\u001b[0m\u001b[0m_engine\u001b[0m\u001b[1;33m.\u001b[0m\u001b[0mget_loc\u001b[0m\u001b[1;33m(\u001b[0m\u001b[0mkey\u001b[0m\u001b[1;33m)\u001b[0m\u001b[1;33m\u001b[0m\u001b[0m\n\u001b[0;32m   2443\u001b[0m             \u001b[1;32mexcept\u001b[0m \u001b[0mKeyError\u001b[0m\u001b[1;33m:\u001b[0m\u001b[1;33m\u001b[0m\u001b[0m\n\u001b[1;32m-> 2444\u001b[1;33m                 \u001b[1;32mreturn\u001b[0m \u001b[0mself\u001b[0m\u001b[1;33m.\u001b[0m\u001b[0m_engine\u001b[0m\u001b[1;33m.\u001b[0m\u001b[0mget_loc\u001b[0m\u001b[1;33m(\u001b[0m\u001b[0mself\u001b[0m\u001b[1;33m.\u001b[0m\u001b[0m_maybe_cast_indexer\u001b[0m\u001b[1;33m(\u001b[0m\u001b[0mkey\u001b[0m\u001b[1;33m)\u001b[0m\u001b[1;33m)\u001b[0m\u001b[1;33m\u001b[0m\u001b[0m\n\u001b[0m\u001b[0;32m   2445\u001b[0m \u001b[1;33m\u001b[0m\u001b[0m\n\u001b[0;32m   2446\u001b[0m         \u001b[0mindexer\u001b[0m \u001b[1;33m=\u001b[0m \u001b[0mself\u001b[0m\u001b[1;33m.\u001b[0m\u001b[0mget_indexer\u001b[0m\u001b[1;33m(\u001b[0m\u001b[1;33m[\u001b[0m\u001b[0mkey\u001b[0m\u001b[1;33m]\u001b[0m\u001b[1;33m,\u001b[0m \u001b[0mmethod\u001b[0m\u001b[1;33m=\u001b[0m\u001b[0mmethod\u001b[0m\u001b[1;33m,\u001b[0m \u001b[0mtolerance\u001b[0m\u001b[1;33m=\u001b[0m\u001b[0mtolerance\u001b[0m\u001b[1;33m)\u001b[0m\u001b[1;33m\u001b[0m\u001b[0m\n",
      "\u001b[1;32mpandas\\_libs\\index.pyx\u001b[0m in \u001b[0;36mpandas._libs.index.IndexEngine.get_loc\u001b[1;34m()\u001b[0m\n",
      "\u001b[1;32mpandas\\_libs\\index.pyx\u001b[0m in \u001b[0;36mpandas._libs.index.IndexEngine.get_loc\u001b[1;34m()\u001b[0m\n",
      "\u001b[1;32mpandas\\_libs\\hashtable_class_helper.pxi\u001b[0m in \u001b[0;36mpandas._libs.hashtable.PyObjectHashTable.get_item\u001b[1;34m()\u001b[0m\n",
      "\u001b[1;32mpandas\\_libs\\hashtable_class_helper.pxi\u001b[0m in \u001b[0;36mpandas._libs.hashtable.PyObjectHashTable.get_item\u001b[1;34m()\u001b[0m\n",
      "\u001b[1;31mKeyError\u001b[0m: 'Year Built'"
     ]
    }
   ],
   "source": [
    "year_cols = ['Year Built','Year Remod/Add','Garage Yr Blt']\n",
    "labels = ['Age','Remod age','Garage age']\n",
    "\n",
    "for i,y in enumerate(year_cols):\n",
    "    t_train[labels[i]] = 2010 - t_train[y]\n",
    "    \n",
    "# We'll also make a 'Years to remodel' column\n",
    "t_train['Yrs_to_remod'] = t_train['Year Remod/Add'] - t_train['Year Built']\n",
    "\n",
    "# And remove the original columns\n",
    "t_train.drop(year_cols,axis=1,inplace=True)"
   ]
  },
  {
   "cell_type": "markdown",
   "metadata": {},
   "source": [
    "## Feature Selection\n",
    "\n",
    "We'll start narrowing down the list of features by looking at the correlation with the target variable (SalePrice). We'll start with the cutoff of 0.3."
   ]
  },
  {
   "cell_type": "code",
   "execution_count": 29,
   "metadata": {},
   "outputs": [
    {
     "data": {
      "text/plain": [
       "Lot Frontage            0.345279\n",
       "Overall Qual            0.799928\n",
       "Mas Vnr Area            0.510983\n",
       "Exter Qual              0.696899\n",
       "Bsmt Qual               0.606123\n",
       "BsmtFin SF 1            0.439838\n",
       "Total Bsmt SF           0.629031\n",
       "Heating QC              0.446074\n",
       "1st Flr SF              0.619164\n",
       "Gr Liv Area             0.699675\n",
       "Full Bath               0.547815\n",
       "Kitchen Qual            0.677269\n",
       "TotRms AbvGrd           0.486375\n",
       "Fireplaces              0.485029\n",
       "Garage Cars             0.644069\n",
       "Garage Area             0.637406\n",
       "Wood Deck SF            0.343644\n",
       "Open Porch SF           0.320682\n",
       "SalePrice               1.000000\n",
       "MS SubClass_60          0.360903\n",
       "Neighborhood_NoRidge    0.300183\n",
       "Neighborhood_NridgHt    0.443334\n",
       "Exterior 1st_VinylSd    0.315120\n",
       "Exterior 2nd_VinylSd    0.311573\n",
       "Mas Vnr Type_None      -0.407839\n",
       "Mas Vnr Type_Stone      0.301593\n",
       "Foundation_CBlock      -0.342742\n",
       "Foundation_PConc        0.518854\n",
       "Garage Type_Attchd      0.343667\n",
       "Garage Type_Detchd     -0.370471\n",
       "Bsmt Exposure_Gd        0.352639\n",
       "BsmtFin Type 1_GLQ      0.459380\n",
       "Garage Finish_Fin       0.411984\n",
       "Garage Finish_Unf      -0.411605\n",
       "Age                    -0.559975\n",
       "Remod age              -0.531341\n",
       "Garage age             -0.501492\n",
       "Name: SalePrice, dtype: float64"
      ]
     },
     "execution_count": 29,
     "metadata": {},
     "output_type": "execute_result"
    }
   ],
   "source": [
    "correlations = t_train.corr()\n",
    "strong_corrs = correlations[correlations['SalePrice'].abs() > 0.3]['SalePrice']\n",
    "strong_corrs"
   ]
  },
  {
   "cell_type": "markdown",
   "metadata": {},
   "source": [
    "Checking how this model performs."
   ]
  },
  {
   "cell_type": "code",
   "execution_count": 30,
   "metadata": {},
   "outputs": [
    {
     "name": "stdout",
     "output_type": "stream",
     "text": [
      "33794.1329704 \n",
      " 6350.30390007\n"
     ]
    }
   ],
   "source": [
    "select_cols = strong_corrs.index.tolist()\n",
    "select_cols.remove('SalePrice')\n",
    "rmses, avg_rmse = train_and_test(t_train,select_cols)\n",
    "print(avg_rmse,'\\n',np.std(rmses))"
   ]
  },
  {
   "cell_type": "markdown",
   "metadata": {},
   "source": [
    "Interesting. That's a slightly worse fit than just using all the numerics, however the standard deviation is much lower. Possibly an indication that there was some overfitting on the model using all possible features (one or two very low rmse values could bring the average down but the higher standard deviation would still be high - might indicate it the model won't generalise as well to a fresh dataset). Maybe I set the threshold too high? I'll drop the threshold to 0.25p."
   ]
  },
  {
   "cell_type": "code",
   "execution_count": 31,
   "metadata": {},
   "outputs": [
    {
     "name": "stdout",
     "output_type": "stream",
     "text": [
      "33263.192849 \n",
      " 6363.94315462 \n",
      "\n",
      "\n",
      "32528.8036359 \n",
      " 6296.4934608\n"
     ]
    }
   ],
   "source": [
    "strong_corrs2 = correlations[correlations['SalePrice'].abs() > 0.25]['SalePrice']\n",
    "\n",
    "select_cols = strong_corrs2.index.tolist()\n",
    "select_cols.remove('SalePrice')\n",
    "rmses, avg_rmse = train_and_test(t_train,select_cols)\n",
    "print(avg_rmse,'\\n',np.std(rmses),'\\n\\n')\n",
    "\n",
    "strong_corrs3 = correlations[correlations['SalePrice'].abs() > 0.2]['SalePrice']\n",
    "\n",
    "select_cols = strong_corrs3.index.tolist()\n",
    "select_cols.remove('SalePrice')\n",
    "rmses, avg_rmse = train_and_test(t_train,select_cols)\n",
    "print(avg_rmse,'\\n',np.std(rmses))"
   ]
  },
  {
   "cell_type": "markdown",
   "metadata": {},
   "source": [
    "I'm going to put investigation of this factor on hold, and will use strong_corrs3 (threshold of 0.2) for the next part.\n",
    "\n",
    "Now we'll look to reduce collinearity. Correlation matrix is very useful for that."
   ]
  },
  {
   "cell_type": "code",
   "execution_count": 32,
   "metadata": {},
   "outputs": [
    {
     "data": {
      "text/plain": [
       "<matplotlib.axes._subplots.AxesSubplot at 0x1340b4c2278>"
      ]
     },
     "execution_count": 32,
     "metadata": {},
     "output_type": "execute_result"
    },
    {
     "data": {
      "image/png": "[encoded data removed]",
      "text/plain": [
       "<matplotlib.figure.Figure at 0x1340b4c2208>"
      ]
     },
     "metadata": {},
     "output_type": "display_data"
    }
   ],
   "source": [
    "cols = strong_corrs3.index.tolist()\n",
    "cols.remove('SalePrice')\n",
    "\n",
    "fig,ax = plt.subplots(figsize=(12,10))\n",
    "corrmat = t_train[cols].corr()\n",
    "sns.heatmap(corrmat,ax=ax)"
   ]
  },
  {
   "cell_type": "markdown",
   "metadata": {},
   "source": [
    "Quite a lot to pick through here. The first correlations that jump out are:\n",
    "- External Qual - Overall Qual\n",
    "- Bsmt Qual - Overall Qual\n",
    "- Kitchen Qual - Overall Qual\n",
    "- Age - Overall Qual\n",
    "- 1st Floor SF - Total Bsmt SF\n",
    "- Exterior 1st_VinylSd - Exterior 2nd_VinylSd\n",
    "- TotRms AbvGrd - Gr Liv Area\n",
    "- 1st Floor SF - Gr Liv Area\n",
    "- Garage Cars - Garage Area\n",
    "\n",
    "Since overall quality is covered by the individual quality measures, I'll first try leaving it out of the model. Exterior 2nd Vinyl is very strongly related to to the 1st on that column, so I'll leave that out too. Total Bsmt SF can go as well, as the 1st floor value is cleaner (didn't require null filling earlier). Gr Liv Area seems to cover TotRms AbvGrd and 1st Flr SF, while Garage Area should cover off Garage Cars (we're going to keep the continuous variable rather than the discrete one as it captures more information)."
   ]
  },
  {
   "cell_type": "code",
   "execution_count": 33,
   "metadata": {},
   "outputs": [
    {
     "data": {
      "text/plain": [
       "Lot Frontage            0.345279\n",
       "Lot Area                0.269321\n",
       "Mas Vnr Area            0.510983\n",
       "Exter Qual              0.696899\n",
       "Bsmt Qual               0.606123\n",
       "BsmtFin SF 1            0.439838\n",
       "Heating QC              0.446074\n",
       "2nd Flr SF              0.264890\n",
       "Gr Liv Area             0.699675\n",
       "Bsmt Full Bath          0.279429\n",
       "Full Bath               0.547815\n",
       "Half Bath               0.281398\n",
       "Kitchen Qual            0.677269\n",
       "Fireplaces              0.485029\n",
       "Garage Cars             0.644069\n",
       "Garage Area             0.637406\n",
       "Wood Deck SF            0.343644\n",
       "Open Porch SF           0.320682\n",
       "MS SubClass_30         -0.242367\n",
       "MS SubClass_60          0.360903\n",
       "MS Zoning_RL            0.248080\n",
       "MS Zoning_RM           -0.298562\n",
       "Neighborhood_NoRidge    0.300183\n",
       "Neighborhood_NridgHt    0.443334\n",
       "Neighborhood_OldTown   -0.218327\n",
       "Neighborhood_StoneBr    0.237375\n",
       "House Style_2Story      0.213624\n",
       "Roof Style_Gable       -0.257304\n",
       "Roof Style_Hip          0.279516\n",
       "Exterior 1st_VinylSd    0.315120\n",
       "Mas Vnr Type_BrkFace    0.249651\n",
       "Mas Vnr Type_None      -0.407839\n",
       "Mas Vnr Type_Stone      0.301593\n",
       "Foundation_BrkTil      -0.233637\n",
       "Foundation_CBlock      -0.342742\n",
       "Foundation_PConc        0.518854\n",
       "Garage Type_Attchd      0.343667\n",
       "Garage Type_BuiltIn     0.238250\n",
       "Garage Type_Detchd     -0.370471\n",
       "Garage Type_None       -0.232260\n",
       "Lot Shape_IR1           0.260457\n",
       "Lot Shape_Reg          -0.297423\n",
       "Bsmt Exposure_Gd        0.352639\n",
       "Bsmt Exposure_No       -0.270881\n",
       "BsmtFin Type 1_GLQ      0.459380\n",
       "Electrical_SBrkr        0.238926\n",
       "Garage Finish_Fin       0.411984\n",
       "Garage Finish_Unf      -0.411605\n",
       "Paved Drive_N          -0.268483\n",
       "Paved Drive_Y           0.281625\n",
       "Age                    -0.559975\n",
       "Remod age              -0.531341\n",
       "Garage age             -0.501492\n",
       "Yrs_to_remod           -0.245910\n",
       "Name: SalePrice, dtype: float64"
      ]
     },
     "execution_count": 33,
     "metadata": {},
     "output_type": "execute_result"
    }
   ],
   "source": [
    "ignore = ['Overall Qual','Total Bsmt SF','Exterior 2nd_VinylSd','TotRms AbvGrd','SalePrice','1st Flr SF']\n",
    "select_cols = strong_corrs3.drop(ignore).index.tolist()\n",
    "strong_corrs3.drop(ignore)"
   ]
  },
  {
   "cell_type": "code",
   "execution_count": 34,
   "metadata": {},
   "outputs": [
    {
     "name": "stdout",
     "output_type": "stream",
     "text": [
      "33625.9802669 \n",
      " 6172.71564085\n"
     ]
    }
   ],
   "source": [
    "# Rerun the model\n",
    "\n",
    "rmses, avg_rmse = train_and_test(t_train,select_cols)\n",
    "print(avg_rmse,'\\n',np.std(rmses))"
   ]
  },
  {
   "cell_type": "markdown",
   "metadata": {},
   "source": [
    "Well, that's the lowest standard deviation I've achieved so far. Not the lowest root mean squared error though.\n",
    "\n",
    "I'm going to take a look at a few of the stronger correlated columns (to SalePrice) to poke around for outliers."
   ]
  },
  {
   "cell_type": "code",
   "execution_count": 39,
   "metadata": {},
   "outputs": [
    {
     "data": {
      "text/plain": [
       "<matplotlib.collections.PathCollection at 0x26604410cc0>"
      ]
     },
     "execution_count": 39,
     "metadata": {},
     "output_type": "execute_result"
    },
    {
     "data": {
      "image/png": "[encoded data removed]",
      "text/plain": [
       "<matplotlib.figure.Figure at 0x26603afce10>"
      ]
     },
     "metadata": {},
     "output_type": "display_data"
    }
   ],
   "source": [
    "plt.scatter(t_train['Gr Liv Area'],t_train['SalePrice'])"
   ]
  },
  {
   "cell_type": "markdown",
   "metadata": {},
   "source": [
    "There are a few outlier values here, down in the bottom right. Checking the rows that generate these (not pictured) shows them to be partial sales. I think I will drop these outliers prior to training my model (this is also advised in the data dictionary)."
   ]
  },
  {
   "cell_type": "code",
   "execution_count": 35,
   "metadata": {
    "collapsed": true
   },
   "outputs": [],
   "source": [
    "t_train = t_train[t_train['Gr Liv Area'] < 4500]"
   ]
  },
  {
   "cell_type": "code",
   "execution_count": 36,
   "metadata": {},
   "outputs": [
    {
     "name": "stdout",
     "output_type": "stream",
     "text": [
      "28391.2055883 \n",
      " 2823.41232965\n"
     ]
    }
   ],
   "source": [
    "# Rerun the model\n",
    "rmses, avg_rmse = train_and_test(t_train,select_cols)\n",
    "print(avg_rmse,'\\n',np.std(rmses))"
   ]
  },
  {
   "cell_type": "markdown",
   "metadata": {},
   "source": [
    "That makes a really dramatic difference. Let's see if there are any others. The dictionary actually advises removing rows with Gr Liv Area below 4k. Lets see if that changes much."
   ]
  },
  {
   "cell_type": "code",
   "execution_count": 37,
   "metadata": {},
   "outputs": [
    {
     "name": "stdout",
     "output_type": "stream",
     "text": [
      "27429.8859083 \n",
      " 2335.06022592\n"
     ]
    }
   ],
   "source": [
    "# Rerun the model\n",
    "rmses, avg_rmse = train_and_test(t_train[t_train['Gr Liv Area'] < 4000],select_cols)\n",
    "print(avg_rmse,'\\n',np.std(rmses))"
   ]
  },
  {
   "cell_type": "markdown",
   "metadata": {},
   "source": [
    "Even better still. I'll remove those completely, then look at a few other highly correlated columns."
   ]
  },
  {
   "cell_type": "code",
   "execution_count": 38,
   "metadata": {
    "collapsed": true
   },
   "outputs": [],
   "source": [
    "t_train = t_train[t_train['Gr Liv Area'] < 4000]"
   ]
  },
  {
   "cell_type": "code",
   "execution_count": 39,
   "metadata": {},
   "outputs": [
    {
     "data": {
      "text/plain": [
       "<matplotlib.collections.PathCollection at 0x1340bce8a90>"
      ]
     },
     "execution_count": 39,
     "metadata": {},
     "output_type": "execute_result"
    },
    {
     "data": {
      "image/png": "[encoded data removed]",
      "text/plain": [
       "<matplotlib.figure.Figure at 0x1340b9f47b8>"
      ]
     },
     "metadata": {},
     "output_type": "display_data"
    }
   ],
   "source": [
    "plt.scatter(t_train['Exter Qual'],t_train['SalePrice'])"
   ]
  },
  {
   "cell_type": "code",
   "execution_count": 45,
   "metadata": {},
   "outputs": [
    {
     "data": {
      "text/plain": [
       "<matplotlib.collections.PathCollection at 0x2660479f668>"
      ]
     },
     "execution_count": 45,
     "metadata": {},
     "output_type": "execute_result"
    },
    {
     "data": {
      "image/png": "[encoded data removed]",
      "text/plain": [
       "<matplotlib.figure.Figure at 0x26603c006d8>"
      ]
     },
     "metadata": {},
     "output_type": "display_data"
    }
   ],
   "source": [
    "plt.scatter(t_train['Age'],t_train['SalePrice'])"
   ]
  },
  {
   "cell_type": "markdown",
   "metadata": {},
   "source": [
    "Not seeing anything obvious that's worth pruning here. We've made a lot of progress but there are many more variations to try."
   ]
  },
  {
   "cell_type": "markdown",
   "metadata": {},
   "source": [
    "# Experiments with the regularization"
   ]
  },
  {
   "cell_type": "code",
   "execution_count": 84,
   "metadata": {},
   "outputs": [
    {
     "name": "stdout",
     "output_type": "stream",
     "text": [
      "23783.987684 \n",
      " 692.229123535\n"
     ]
    }
   ],
   "source": [
    "from sklearn.linear_model import Lasso\n",
    "from sklearn.linear_model import Ridge\n",
    "from sklearn.preprocessing import StandardScaler\n",
    "\n",
    "lasso_cols = t_train.select_dtypes(exclude=['object']).columns.tolist()\n",
    "lasso_cols.remove('SalePrice')\n",
    "\n",
    "target = t_train['SalePrice']\n",
    "features = t_train[lasso_cols]\n",
    "\n",
    "# Scaling the features\n",
    "#scaler = StandardScaler()\n",
    "#features = scaler.fit_transform(features)\n",
    "\n",
    "\n",
    "#mod = Lasso(alpha=5, normalize=True, tol=0.01)\n",
    "mod = Ridge(alpha=0.1, normalize=True, tol = 0.1)\n",
    "\n",
    "# best scores: Lasso(alpha=5, normalize=True, tol=0.01) 23690\n",
    "#              Ridge(alpha=0.5, normalize=True, tol = 0.1) 23783\n",
    "\n",
    "mean_s_errors = cross_val_score(mod, \n",
    "                                features, \n",
    "                                target,\n",
    "                                scoring='neg_mean_squared_error',\n",
    "                                cv=5)\n",
    "\n",
    "# Root mean squared errors for each fold\n",
    "r_ms_errors = [abs(m)**(1/2) for m in mean_s_errors]\n",
    "    \n",
    "# Average root mean squared error across all folds\n",
    "avg_rms_error = np.mean(r_ms_errors)\n",
    "\n",
    "\n",
    "print(avg_rms_error,'\\n',np.std(r_ms_errors))"
   ]
  },
  {
   "cell_type": "markdown",
   "metadata": {},
   "source": [
    "## Analysing the model\n",
    "\n",
    "I'm going to do some analysis of the residuals and generally assess the goodness of fit of the model. First up, running the model and visualizing the residuals."
   ]
  },
  {
   "cell_type": "code",
   "execution_count": 93,
   "metadata": {},
   "outputs": [
    {
     "data": {
      "text/plain": [
       "<matplotlib.lines.Line2D at 0x1340bb95278>"
      ]
     },
     "execution_count": 93,
     "metadata": {},
     "output_type": "execute_result"
    },
    {
     "data": {
      "image/png": "[encoded data removed]",
      "text/plain": [
       "<matplotlib.figure.Figure at 0x1340bb03470>"
      ]
     },
     "metadata": {},
     "output_type": "display_data"
    }
   ],
   "source": [
    "def model_residuals(df,features,target='SalePrice'):\n",
    "    \n",
    "    # Split the dataset into train and test.\n",
    "    df_train = df[:int(df.shape[0]*0.7)]\n",
    "    df_test = df[int(df.shape[0]*0.7):]\n",
    "    \n",
    "    # Start up a model\n",
    "    lr = LinearRegression()\n",
    "    \n",
    "    # Fit the model, and return the predictions.\n",
    "    lr.fit(df_train[features],df_train[target])\n",
    "    fitted_values = lr.predict(df_test[features])\n",
    "    residuals = df_test[target] - fitted_values\n",
    "    \n",
    "    coefs = lr.coef_\n",
    "    \n",
    "    return fitted_values, residuals, df_test[target], coefs\n",
    "\n",
    "cols = t_train.columns.tolist()\n",
    "cols.remove('SalePrice')\n",
    "\n",
    "fitted, residuals, actuals, coefs = model_residuals(t_train,cols)\n",
    "\n",
    "fig,ax = plt.subplots(figsize=(12,8))\n",
    "ax.scatter(fitted,residuals)\n",
    "ax.axhline(c='red')"
   ]
  },
  {
   "cell_type": "markdown",
   "metadata": {},
   "source": [
    "What we want to see here are residuals pretty evenly spread across the horizontal and verticle axes on this plot, i.e. we shouldn't be able to predict the error (the residual) from the fitted value. I would say that this looks pretty good overall.\n",
    "\n",
    "Let's have a look at fitted values vs observed values."
   ]
  },
  {
   "cell_type": "code",
   "execution_count": 51,
   "metadata": {},
   "outputs": [
    {
     "data": {
      "text/plain": [
       "<matplotlib.collections.PathCollection at 0x26603c0edd8>"
      ]
     },
     "execution_count": 51,
     "metadata": {},
     "output_type": "execute_result"
    },
    {
     "data": {
      "image/png": "[encoded data removed]",
      "text/plain": [
       "<matplotlib.figure.Figure at 0x26603c0efd0>"
      ]
     },
     "metadata": {},
     "output_type": "display_data"
    }
   ],
   "source": [
    "fig,ax = plt.subplots(figsize=(12,8))\n",
    "ax.scatter(fitted,actuals)\n",
    "#ax.axhline(c='red')"
   ]
  },
  {
   "cell_type": "code",
   "execution_count": 57,
   "metadata": {},
   "outputs": [
    {
     "name": "stdout",
     "output_type": "stream",
     "text": [
      "529211322852.0168\n",
      "4305530827696.021\n",
      "0.8770856965074365\n"
     ]
    }
   ],
   "source": [
    "# Calculating R squared\n",
    "SSres = np.sum(residuals**2)\n",
    "SStot = np.sum((actuals - np.mean(actuals))**2)\n",
    "R2 = 1 - SSres/SStot\n",
    "print(SSres)\n",
    "print(SStot)\n",
    "print(R2)"
   ]
  },
  {
   "cell_type": "markdown",
   "metadata": {},
   "source": [
    "R^2 is fairly high, at 87.7%."
   ]
  },
  {
   "cell_type": "markdown",
   "metadata": {},
   "source": [
    "# Interpreting Coefficients"
   ]
  },
  {
   "cell_type": "code",
   "execution_count": 102,
   "metadata": {},
   "outputs": [
    {
     "name": "stdout",
     "output_type": "stream",
     "text": [
      "Highest:  ['Neighborhood_GrnHill', 'Neighborhood_StoneBr', 'BsmtFin Type 2_ALQ', 'BsmtFin Type 2_BLQ', 'BsmtFin Type 2_GLQ', 'BsmtFin Type 2_Rec', 'BsmtFin Type 2_Unf'] \n",
      "Lowest:  ['Mas Vnr Type_CBlock', 'BsmtFin Type 1_ALQ', 'BsmtFin Type 1_BLQ', 'BsmtFin Type 1_GLQ', 'BsmtFin Type 1_LwQ', 'BsmtFin Type 1_Rec', 'BsmtFin Type 1_Unf']\n"
     ]
    }
   ],
   "source": [
    "select_cols = t_train.select_dtypes(exclude=['object']).columns.tolist()\n",
    "\n",
    "\n",
    "lr = LinearRegression()\n",
    "# Fit the model\n",
    "lr.fit(t_train[cols],t_train['SalePrice'])\n",
    "\n",
    "feature_coefs = list(zip(cols,lr.coef_))\n",
    "\n",
    "max_c = max(coefs)\n",
    "min_c = min(coefs)\n",
    "max_f = [f[0] for f in feature_coefs if f[1] >= max_c/2]\n",
    "min_f = [f[0] for f in feature_coefs if f[1] <= min_c/2]\n",
    "\n",
    "print('Highest: ',max_f, '\\nLowest: ', min_f)"
   ]
  },
  {
   "cell_type": "code",
   "execution_count": 96,
   "metadata": {},
   "outputs": [
    {
     "data": {
      "text/plain": [
       "[('Neighborhood_Blmngtn', 2276.9821849519585),\n",
       " ('Neighborhood_Blueste', 8695.3377983537375),\n",
       " ('Neighborhood_BrDale', 16892.483113267754),\n",
       " ('Neighborhood_BrkSide', -2123.3519255853898),\n",
       " ('Neighborhood_ClearCr', -12695.866832327372),\n",
       " ('Neighborhood_CollgCr', -16823.621848626939),\n",
       " ('Neighborhood_Crawfor', 3516.1839719263066),\n",
       " ('Neighborhood_Edwards', -11930.124322958862),\n",
       " ('Neighborhood_Gilbert', -15590.635194983161),\n",
       " ('Neighborhood_Greens', -3457.6394437446729),\n",
       " ('Neighborhood_GrnHill', 66377.546184064704),\n",
       " ('Neighborhood_IDOTRR', -8917.8363835130531),\n",
       " ('Neighborhood_Landmrk', 12350.426432726865),\n",
       " ('Neighborhood_MeadowV', -3515.3136887053897),\n",
       " ('Neighborhood_Mitchel', -13999.555591244489),\n",
       " ('Neighborhood_NAmes', -11451.925911265078),\n",
       " ('Neighborhood_NPkVill', 11858.80207171777),\n",
       " ('Neighborhood_NWAmes', -20418.36817226556),\n",
       " ('Neighborhood_NoRidge', 4755.754763434893),\n",
       " ('Neighborhood_NridgHt', 15929.223701579742),\n",
       " ('Neighborhood_OldTown', -13023.729982956685),\n",
       " ('Neighborhood_SWISU', -6723.1717280237026),\n",
       " ('Neighborhood_Sawyer', -6500.5921535806829),\n",
       " ('Neighborhood_SawyerW', -20267.797140453524),\n",
       " ('Neighborhood_Somerst', -4462.7106006462218),\n",
       " ('Neighborhood_StoneBr', 39699.79280782953),\n",
       " ('Neighborhood_Timber', -13210.513823907162),\n",
       " ('Neighborhood_Veenker', 2760.221714956775)]"
      ]
     },
     "execution_count": 96,
     "metadata": {},
     "output_type": "execute_result"
    }
   ],
   "source": [
    "neighbourhoods = [f for f in feature_coefs if f[0].startswith('Neigh')]\n",
    "neighbourhoods"
   ]
  },
  {
   "cell_type": "code",
   "execution_count": 107,
   "metadata": {},
   "outputs": [
    {
     "name": "stdout",
     "output_type": "stream",
     "text": [
      "Highest:  ['Full Bath', 'Half Bath', 'Fireplaces'] \n",
      "Lowest:  ['Kitchen AbvGr']\n"
     ]
    }
   ],
   "source": [
    "# Just looking at original numeric columns\n",
    "\n",
    "numeric_cols = data.select_dtypes(exclude=['object']).columns.tolist()\n",
    "numeric_cols.remove('Overall Qual')\n",
    "numeric_cols.remove('Overall Cond')\n",
    "numeric_coefs = [f for f in feature_coefs if f[0] in numeric_cols]\n",
    "\n",
    "max_c = max([f[1] for f in numeric_coefs])\n",
    "min_c = min([f[1] for f in numeric_coefs])\n",
    "max_f = [f[0] for f in numeric_coefs if f[1] >= max_c/2]\n",
    "min_f = [f[0] for f in numeric_coefs if f[1] <= min_c/2]\n",
    "\n",
    "print('Highest: ',max_f, '\\nLowest: ', min_f)\n"
   ]
  },
  {
   "cell_type": "markdown",
   "metadata": {},
   "source": [
    "## Pure experiment\n",
    "\n",
    "Just trying some things based on some kaggle kernels I read. Ignore this for the moment."
   ]
  },
  {
   "cell_type": "code",
   "execution_count": 78,
   "metadata": {},
   "outputs": [
    {
     "data": {
      "text/plain": [
       "<matplotlib.axes._subplots.AxesSubplot at 0x17652da74a8>"
      ]
     },
     "execution_count": 78,
     "metadata": {},
     "output_type": "execute_result"
    },
    {
     "data": {
      "image/png": "[encoded data removed]",
      "text/plain": [
       "<matplotlib.figure.Figure at 0x17653168048>"
      ]
     },
     "metadata": {},
     "output_type": "display_data"
    }
   ],
   "source": [
    "sns.distplot(t_train['SalePrice'])"
   ]
  },
  {
   "cell_type": "markdown",
   "metadata": {},
   "source": [
    "SalePrice has positive skew. We may be able to improve model fit by transforming SalePrice to create a more normal target variable."
   ]
  },
  {
   "cell_type": "code",
   "execution_count": 79,
   "metadata": {},
   "outputs": [
    {
     "data": {
      "text/plain": [
       "<matplotlib.axes._subplots.AxesSubplot at 0x17653168ac8>"
      ]
     },
     "execution_count": 79,
     "metadata": {},
     "output_type": "execute_result"
    },
    {
     "data": {
      "image/png": "[encoded data removed]",
      "text/plain": [
       "<matplotlib.figure.Figure at 0x17653a08588>"
      ]
     },
     "metadata": {},
     "output_type": "display_data"
    }
   ],
   "source": [
    "t = np.log(t_train['SalePrice'])\n",
    "sns.distplot(t)"
   ]
  },
  {
   "cell_type": "code",
   "execution_count": 81,
   "metadata": {
    "collapsed": true
   },
   "outputs": [],
   "source": [
    "t_train['SalePriceLog'] = np.log(t_train['SalePrice'])"
   ]
  },
  {
   "cell_type": "code",
   "execution_count": 88,
   "metadata": {},
   "outputs": [
    {
     "name": "stdout",
     "output_type": "stream",
     "text": [
      "[0.14977600728344709, 0.1364707943553517, 0.17729259640185444, 0.1309805207818053, 0.17675105681754855, 0.12234343805764269, 0.14873508989525006, 0.1382210580311517, 0.15258060734032433, 0.15035509867417071]\n",
      "0.148350626764 \n",
      "\n",
      "1.1599195239\n"
     ]
    }
   ],
   "source": [
    "rmses, avg_rmse = train_and_test(t_train,select_cols,target='SalePriceLog')\n",
    "print(rmses)\n",
    "print(avg_rmse,'\\n')\n",
    "print(np.exp(avg_rmse))"
   ]
  },
  {
   "cell_type": "code",
   "execution_count": 83,
   "metadata": {},
   "outputs": [
    {
     "data": {
      "text/plain": [
       "12.027057837942202"
      ]
     },
     "execution_count": 83,
     "metadata": {},
     "output_type": "execute_result"
    }
   ],
   "source": [
    "t_train['SalePriceLog'].mean()"
   ]
  }
 ],
 "metadata": {
  "anaconda-cloud": {},
  "kernelspec": {
   "display_name": "Python 3",
   "language": "python",
   "name": "python3"
  },
  "language_info": {
   "codemirror_mode": {
    "name": "ipython",
    "version": 3
   },
   "file_extension": ".py",
   "mimetype": "text/x-python",
   "name": "python",
   "nbconvert_exporter": "python",
   "pygments_lexer": "ipython3",
   "version": "3.6.3"
  }
 },
 "nbformat": 4,
 "nbformat_minor": 2
}
